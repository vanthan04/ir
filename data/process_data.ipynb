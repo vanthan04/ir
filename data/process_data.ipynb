{
 "cells": [
  {
   "cell_type": "code",
   "id": "initial_id",
   "metadata": {
    "collapsed": true,
    "ExecuteTime": {
     "end_time": "2024-12-17T07:37:46.409403Z",
     "start_time": "2024-12-17T07:37:38.072468Z"
    }
   },
   "source": [
    "from datasets import load_dataset\n",
    "\n",
    "# Tải dữ liệu từ dataset\n",
    "dataset = load_dataset(\"hchautran/vietnamese-wiki\")"
   ],
   "outputs": [],
   "execution_count": 1
  },
  {
   "metadata": {
    "ExecuteTime": {
     "end_time": "2024-12-17T07:37:54.049067Z",
     "start_time": "2024-12-17T07:37:46.425432Z"
    }
   },
   "cell_type": "code",
   "source": [
    "# Chuyển đổi dữ liệu từ phần 'train' của dataset sang dict\n",
    "data_dict = dataset['train'].to_dict()\n",
    "\n",
    "# In ra số dòng dựa trên một trường, ví dụ 'text'\n",
    "any_key = list(data_dict.keys())[0]  # Lấy một khóa bất kỳ, ví dụ khóa đầu tiên\n",
    "print(\"Số dòng:\", len(data_dict[any_key]))"
   ],
   "id": "ce12508ba2824dcc",
   "outputs": [
    {
     "name": "stdout",
     "output_type": "stream",
     "text": [
      "Số dòng: 1273469\n"
     ]
    }
   ],
   "execution_count": 2
  },
  {
   "metadata": {
    "ExecuteTime": {
     "end_time": "2024-12-17T07:37:54.630043Z",
     "start_time": "2024-12-17T07:37:54.625744Z"
    }
   },
   "cell_type": "code",
   "source": [
    "# In ra hàng đầu tiên cho mỗi khóa\n",
    "print(\"\\nFirst row in data_dict:\")\n",
    "first_row = {key: data_dict[key][0] for key in data_dict}\n",
    "print(first_row)"
   ],
   "id": "13e13242878abf78",
   "outputs": [
    {
     "name": "stdout",
     "output_type": "stream",
     "text": [
      "\n",
      "First row in data_dict:\n",
      "{'id': '2', 'title': 'Trang Chính', 'clean_text': 'Trang Chính templatestyles src Wiki2021 styles css __NOEDITSECTION__ '}\n"
     ]
    }
   ],
   "execution_count": 3
  },
  {
   "metadata": {
    "ExecuteTime": {
     "end_time": "2024-12-17T07:38:04.291150Z",
     "start_time": "2024-12-17T07:37:54.718078Z"
    }
   },
   "cell_type": "code",
   "source": [
    "import pickle\n",
    "\n",
    "# Lưu dữ liệu dưới dạng file .pkl\n",
    "with open('wiki_data.pkl', 'wb') as file:\n",
    "    pickle.dump(data_dict, file)\n",
    "    \n",
    "print(\"Data has been saved to vietnamese_wiki_data.pkl\")"
   ],
   "id": "8d07949995c676d8",
   "outputs": [
    {
     "name": "stdout",
     "output_type": "stream",
     "text": [
      "Data has been saved to vietnamese_wiki_data.pkl\n"
     ]
    }
   ],
   "execution_count": 4
  }
 ],
 "metadata": {
  "kernelspec": {
   "display_name": "Python 3",
   "language": "python",
   "name": "python3"
  },
  "language_info": {
   "codemirror_mode": {
    "name": "ipython",
    "version": 2
   },
   "file_extension": ".py",
   "mimetype": "text/x-python",
   "name": "python",
   "nbconvert_exporter": "python",
   "pygments_lexer": "ipython2",
   "version": "2.7.6"
  }
 },
 "nbformat": 4,
 "nbformat_minor": 5
}
